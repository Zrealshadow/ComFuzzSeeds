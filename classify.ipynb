{
 "cells": [
  {
   "cell_type": "code",
   "execution_count": 1,
   "metadata": {},
   "outputs": [],
   "source": [
    "# -*- coding: utf-8 -*-\n",
    "# @author: lingze\n",
    "# @time: 2024/11/13\n",
    "import os\n",
    "import shutil"
   ]
  },
  {
   "cell_type": "markdown",
   "metadata": {},
   "source": [
    "mv standard sql snippets"
   ]
  },
  {
   "cell_type": "code",
   "execution_count": 2,
   "metadata": {},
   "outputs": [
    {
     "name": "stdout",
     "output_type": "stream",
     "text": [
      "59 standard sql snippets, only contain standard grammar\n"
     ]
    }
   ],
   "source": [
    "dir_path = './classified_seeds/standard'\n",
    "\n",
    "if not os.path.exists(dir_path):\n",
    "    os.makedirs(dir_path)\n",
    "\n",
    "ori_path = './seeds'\n",
    "idx_file = 'manual/tmp_standard_idx.txt'\n",
    "with open(idx_file, 'r') as f:\n",
    "    idx_list = f.readlines()\n",
    "    print(f'{len(idx_list)} standard sql snippets, only contain standard grammar')\n",
    "    for i,idx in enumerate(idx_list):\n",
    "        filename = f'{idx.strip()}.sql'\n",
    "        orignal_file_path = os.path.join(ori_path, filename)\n",
    "        new_file_name = f'std_{i}.sql'\n",
    "        new_file_path = os.path.join(dir_path, new_file_name)\n",
    "\n",
    "        shutil.copy(orignal_file_path, new_file_path)\n",
    "        "
   ]
  },
  {
   "cell_type": "markdown",
   "metadata": {},
   "source": [
    "SQL snippets with postgreSQL features"
   ]
  },
  {
   "cell_type": "code",
   "execution_count": 3,
   "metadata": {},
   "outputs": [
    {
     "name": "stdout",
     "output_type": "stream",
     "text": [
      "46 pg feature sql snippets, depend on some postgreSQL built-in attributes\n"
     ]
    }
   ],
   "source": [
    "dir_path = './classified_seeds/pg_feature'\n",
    "\n",
    "if not os.path.exists(dir_path):\n",
    "    os.makedirs(dir_path)\n",
    "\n",
    "ori_path = './seeds'\n",
    "idx_file = 'manual/tmp_pg_idx.txt'\n",
    "with open(idx_file, 'r') as f:\n",
    "    idx_list = f.readlines()\n",
    "    print(f'{len(idx_list)} pg feature sql snippets, depend on some postgreSQL built-in attributes')\n",
    "    for i,idx in enumerate(idx_list):\n",
    "        filename = f'{idx.strip()}.sql'\n",
    "        orignal_file_path = os.path.join(ori_path, filename)\n",
    "        new_file_name = f'pg_{i}.sql'\n",
    "        new_file_path = os.path.join(dir_path, new_file_name)\n",
    "\n",
    "        shutil.copy(orignal_file_path, new_file_path)"
   ]
  },
  {
   "cell_type": "markdown",
   "metadata": {},
   "source": [
    "SQL snippets with timestamp"
   ]
  },
  {
   "cell_type": "code",
   "execution_count": 4,
   "metadata": {},
   "outputs": [
    {
     "name": "stdout",
     "output_type": "stream",
     "text": [
      "13 timestamp feature sql snippets, depend on some timestamp functions\n"
     ]
    }
   ],
   "source": [
    "dir_path = './classified_seeds/ts_feature'\n",
    "\n",
    "if not os.path.exists(dir_path):\n",
    "    os.makedirs(dir_path)\n",
    "\n",
    "ori_path = './seeds'\n",
    "idx_file = 'manual/tmp_ts_idx.txt'\n",
    "with open(idx_file, 'r') as f:\n",
    "    idx_list = f.readlines()\n",
    "    print(f'{len(idx_list)} timestamp feature sql snippets, depend on some timestamp functions')\n",
    "    for i,idx in enumerate(idx_list):\n",
    "        filename = f'{idx.strip()}.sql'\n",
    "        orignal_file_path = os.path.join(ori_path, filename)\n",
    "        new_file_name = f'ts_{i}.sql'\n",
    "        new_file_path = os.path.join(dir_path, new_file_name)\n",
    "\n",
    "        shutil.copy(orignal_file_path, new_file_path)"
   ]
  },
  {
   "cell_type": "code",
   "execution_count": null,
   "metadata": {},
   "outputs": [],
   "source": []
  }
 ],
 "metadata": {
  "kernelspec": {
   "display_name": "fuzz",
   "language": "python",
   "name": "python3"
  },
  "language_info": {
   "codemirror_mode": {
    "name": "ipython",
    "version": 3
   },
   "file_extension": ".py",
   "mimetype": "text/x-python",
   "name": "python",
   "nbconvert_exporter": "python",
   "pygments_lexer": "ipython3",
   "version": "3.9.15"
  }
 },
 "nbformat": 4,
 "nbformat_minor": 2
}
